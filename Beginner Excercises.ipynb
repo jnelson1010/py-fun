{
 "cells": [
  {
   "cell_type": "code",
   "execution_count": null,
   "metadata": {},
   "outputs": [],
   "source": []
  },
  {
   "cell_type": "markdown",
   "metadata": {},
   "source": [
    "# practice python beginner excercises from https://www.practicepython.org/"
   ]
  },
  {
   "cell_type": "code",
   "execution_count": null,
   "metadata": {},
   "outputs": [],
   "source": [
    "# Character Input\n",
    "name = input('What is your name? ')\n",
    "age = int(input('What is your age? '))\n",
    "answer = (100 - age + 2019)\n",
    "message = int(input('How many times would you like to see this message? '))\n",
    "print(('\\n' '' + name + ', You will be 100 in the year ' + str(answer) + '. ')* message)\n"
   ]
  },
  {
   "cell_type": "code",
   "execution_count": null,
   "metadata": {},
   "outputs": [],
   "source": [
    "# Odd or Even\n",
    "number = int(input('Give me a number between 1 and 1000? '))\n",
    "remainder = number % 2\n",
    "fourmultiple = number % 4\n",
    "if fourmultiple == 0:\n",
    "    print('This is a multiple of 4.')\n",
    "elif remainder > 0:\n",
    "    print('This is an odd number')\n",
    "elif remainder == 0:\n",
    "    print('This is an even number')\n",
    "else: \n",
    "    print('Program Error. Please check with Administrator.')\n",
    "print('Thanks for playing.')\n",
    "\n",
    "\n",
    "    \n",
    "  \n"
   ]
  },
  {
   "cell_type": "code",
   "execution_count": null,
   "metadata": {},
   "outputs": [],
   "source": [
    "check = int(input('Give me a number to check? '))\n",
    "num = int(input('Give me a number to divide by? '))\n",
    "numcheck = check % num\n",
    "if numcheck == 0:\n",
    "    print('Your inputs divide evenly, well done. ')\n",
    "elif numcheck > 0:\n",
    "    print('Your inputs do NOT divide evenly, do do you want to try again? ')\n",
    "else:\n",
    "    print('Program Error 42. Please check with Administrator.')\n"
   ]
  },
  {
   "cell_type": "code",
   "execution_count": null,
   "metadata": {},
   "outputs": [],
   "source": [
    "# List Less Than Ten\n",
    "a = [1,1,2,3,5,8,13,21,34,89,93]\n",
    "a.append(55)\n",
    "list.sort(a)\n",
    "list.reverse(a)\n",
    "new_list = []\n",
    "newnum = int(input('Give me a number less than 90?'))\n",
    "a.append(newnum)\n",
    "for x in a:\n",
    "    if x < newnum:\n",
    "        new_list.append(x)\n",
    "print(new_list)\n",
    "print('Program Complete.')"
   ]
  },
  {
   "cell_type": "code",
   "execution_count": 2,
   "metadata": {},
   "outputs": [
    {
     "name": "stdout",
     "output_type": "stream",
     "text": [
      "[1, 3, 5, 9, 15, 45]\n"
     ]
    }
   ],
   "source": [
    "# Divisors\n",
    "number = int(input('Give me a number? '))\n",
    "\n",
    "Divrange = (list(range(1,number+1)))\n",
    "\n",
    "Qualified = []\n",
    "\n",
    "for newvalue in Divrange:\n",
    "    if number % newvalue == 0:\n",
    "        Qualified.append(newvalue)\n",
    "        \n",
    "print(Qualified)"
   ]
  },
  {
   "cell_type": "code",
   "execution_count": 12,
   "metadata": {},
   "outputs": [
    {
     "name": "stdout",
     "output_type": "stream",
     "text": [
      "[1, 2, 3, 5, 8, 13]\n"
     ]
    }
   ],
   "source": [
    "# List Overlap\n",
    "a = [1,1,2,3,5,8,13,21,34,55,89]\n",
    "b = [1,2,3,4,5,6,7,8,9,10,11,12,13]\n",
    "\n",
    "List = []\n",
    "\n",
    "for element in a:\n",
    "    if element in b:\n",
    "        if element not in List:\n",
    "            List.append(element)\n",
    "print(List)"
   ]
  },
  {
   "cell_type": "code",
   "execution_count": null,
   "metadata": {},
   "outputs": [],
   "source": []
  }
 ],
 "metadata": {
  "kernelspec": {
   "display_name": "Python 3",
   "language": "python",
   "name": "python3"
  },
  "language_info": {
   "codemirror_mode": {
    "name": "ipython",
    "version": 3
   },
   "file_extension": ".py",
   "mimetype": "text/x-python",
   "name": "python",
   "nbconvert_exporter": "python",
   "pygments_lexer": "ipython3",
   "version": "3.6.5"
  }
 },
 "nbformat": 4,
 "nbformat_minor": 2
}
